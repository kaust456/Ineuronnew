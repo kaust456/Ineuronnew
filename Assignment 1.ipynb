{
 "cells": [
  {
   "cell_type": "markdown",
   "metadata": {},
   "source": [
    "# Assignment 1"
   ]
  },
  {
   "cell_type": "markdown",
   "metadata": {},
   "source": [
    "1. In the below elements which of them are values or an expression? eg:- values can be integer or string and expressions will    be mathematical operators.\n",
    "\n",
    "*      : Expression\t\t\n",
    "'hello': Value\t\n",
    "-87.8  : Value\n",
    "-      : Expression\n",
    "/      : Expression\n",
    "+      : Expression\n",
    "6      : Value"
   ]
  },
  {
   "cell_type": "markdown",
   "metadata": {},
   "source": [
    "2. What is the difference between string and variable? \n",
    "\n",
    "    Variable is any value to which we assign data of any datatype, simply it is a container of a specific data.\n",
    "    String is a datatype which contains data enclosed in quotes.\n",
    "  \n",
    "    PFB the example of the same :\n",
    "\n",
    "    Example is a variable  \n",
    "    '\n",
    "    This is an example of a String..!!' is a String\n"
   ]
  },
  {
   "cell_type": "code",
   "execution_count": 21,
   "metadata": {},
   "outputs": [
    {
     "data": {
      "text/plain": [
       "'This is an example of a String..!!'"
      ]
     },
     "execution_count": 21,
     "metadata": {},
     "output_type": "execute_result"
    }
   ],
   "source": [
    "Example = 'This is an example of a String..!!'\n",
    "Example"
   ]
  },
  {
   "cell_type": "code",
   "execution_count": 6,
   "metadata": {},
   "outputs": [
    {
     "data": {
      "text/plain": [
       "str"
      ]
     },
     "execution_count": 6,
     "metadata": {},
     "output_type": "execute_result"
    }
   ],
   "source": [
    "type(Example)"
   ]
  },
  {
   "cell_type": "markdown",
   "metadata": {},
   "source": [
    "3. Describe three different data types.\n",
    "\n",
    "    3.1) String: String is group of any data enclosed in inverted commas(“ ”, ‘ ’, “’ “’) \n",
    "             It start and end needs to be the same inverted commas pairs.\n",
    "             \n",
    "    please refer some examples below"
   ]
  },
  {
   "cell_type": "code",
   "execution_count": 8,
   "metadata": {},
   "outputs": [
    {
     "data": {
      "text/plain": [
       "'This is our 1st assignment of the Journey'"
      ]
     },
     "execution_count": 8,
     "metadata": {},
     "output_type": "execute_result"
    }
   ],
   "source": [
    "example2 = 'This is our 1st assignment of the Journey'\n",
    "example2"
   ]
  },
  {
   "cell_type": "code",
   "execution_count": 9,
   "metadata": {},
   "outputs": [
    {
     "data": {
      "text/plain": [
       "\"Hello 'All'\""
      ]
     },
     "execution_count": 9,
     "metadata": {},
     "output_type": "execute_result"
    }
   ],
   "source": [
    "example3 = \"Hello 'All'\"\n",
    "example3"
   ]
  },
  {
   "cell_type": "markdown",
   "metadata": {},
   "source": [
    "    3.2) Integer: Integer contains whole numbers  "
   ]
  },
  {
   "cell_type": "code",
   "execution_count": 10,
   "metadata": {},
   "outputs": [
    {
     "data": {
      "text/plain": [
       "34"
      ]
     },
     "execution_count": 10,
     "metadata": {},
     "output_type": "execute_result"
    }
   ],
   "source": [
    "a = 34\n",
    "a"
   ]
  },
  {
   "cell_type": "markdown",
   "metadata": {},
   "source": [
    "    3.3) Boolean: Boolean contains True and False, The value of True is 1 and False is 0.\n",
    "              It's output is always in 0 and 1"
   ]
  },
  {
   "cell_type": "code",
   "execution_count": 11,
   "metadata": {},
   "outputs": [
    {
     "data": {
      "text/plain": [
       "0"
      ]
     },
     "execution_count": 11,
     "metadata": {},
     "output_type": "execute_result"
    }
   ],
   "source": [
    "ex = True * False\n",
    "ex"
   ]
  },
  {
   "cell_type": "markdown",
   "metadata": {},
   "source": [
    "4. What is an expression made up of? What do all expressions do?\n",
    "\n",
    "    Any line of code containing mathematical operations are Expressions.\n",
    "    Expressions generally perform any operation assigned to it.\n",
    "\n",
    "    Examples : \n",
    "    a + b\n",
    "    3 – 9j\n",
    "    True / False \n"
   ]
  },
  {
   "cell_type": "markdown",
   "metadata": {},
   "source": [
    "5. This assignment statements, like spam = 10. What is the difference between an expression and a statement?\n",
    "\n",
    "    Statement is a combination of Variables and expressions \n",
    "\n",
    "    For example :\n",
    "\n",
    "    c = a + b\n",
    "    a = ‘strong’\n",
    "    f = 3 – 9j\n",
    "    d = True * False \n",
    "\n",
    "    In all the above cases the characters before the = (equals to ) operators are variables and after the = operators are expressions and the combination of both is a statement"
   ]
  },
  {
   "cell_type": "markdown",
   "metadata": {},
   "source": [
    "6. After running the following code, what does the variable bacon contain?\n",
    "bacon = 22\n",
    "bacon + 1\n",
    "\n",
    "    The variable bacon contains 22.\n"
   ]
  },
  {
   "cell_type": "code",
   "execution_count": 12,
   "metadata": {},
   "outputs": [
    {
     "data": {
      "text/plain": [
       "22"
      ]
     },
     "execution_count": 12,
     "metadata": {},
     "output_type": "execute_result"
    }
   ],
   "source": [
    "bacon = 22\n",
    "bacon + 1\n",
    "bacon"
   ]
  },
  {
   "cell_type": "markdown",
   "metadata": {},
   "source": [
    "7. What should the values of the following two terms be?\n",
    "'spam' + 'spamspam'   \n",
    "'spam' * 3 \n",
    "\n",
    "    It should be 'spamspamspam'\n",
    "    In the first example expression the 2 strings are joined\n",
    "    and in another one the string spam is multiplied by 3 means it repeats 3 times.\n"
   ]
  },
  {
   "cell_type": "code",
   "execution_count": 14,
   "metadata": {},
   "outputs": [
    {
     "data": {
      "text/plain": [
       "('spamspamspam', 'spamspamspam')"
      ]
     },
     "execution_count": 14,
     "metadata": {},
     "output_type": "execute_result"
    }
   ],
   "source": [
    "a = 'spam' + 'spamspam'\n",
    "b = 'spam' * 3\n",
    "a , b"
   ]
  },
  {
   "cell_type": "markdown",
   "metadata": {},
   "source": [
    "8. Why is eggs a valid variable name while 100 is invalid?\n",
    "\n",
    "    Because First letter of the variable can’t be integer, also it should not be any mathematical operator it must be a alphabetical character only!\n",
    "\n",
    "    For example :\n",
    "s100 or any variable starting with character is a valid variable name hence 100 is a invalid Variable \n"
   ]
  },
  {
   "cell_type": "markdown",
   "metadata": {},
   "source": [
    "9. What three functions can be used to get the integer, floating-point number, or string version of a value?\n",
    "\n",
    "    for integer it's int()\n",
    "    for string it's str()\n",
    "    for floating-point number it's float()"
   ]
  },
  {
   "cell_type": "markdown",
   "metadata": {},
   "source": [
    "10. Why does this expression cause an error? How can you fix it?\n",
    "\n",
    "    'I have eaten ' + 99 + ' burritos\n",
    "\n",
    "    It causes error because int value (99) is trying to add in the string (I have eaten)\n",
    "    also the inverted commas for the second string mentioned are not closed properly \n",
    "\n",
    "    The solution to this is\n",
    "\n",
    "    ' I have eaten ' + '99' + 'burritos'"
   ]
  },
  {
   "cell_type": "code",
   "execution_count": 18,
   "metadata": {},
   "outputs": [
    {
     "data": {
      "text/plain": [
       "' I have eaten 99 burritos. '"
      ]
     },
     "execution_count": 18,
     "metadata": {},
     "output_type": "execute_result"
    }
   ],
   "source": [
    "' I have eaten ' + '99' + ' burritos. '"
   ]
  },
  {
   "cell_type": "markdown",
   "metadata": {},
   "source": [
    "# ThankYou!!"
   ]
  }
 ],
 "metadata": {
  "kernelspec": {
   "display_name": "Python 3",
   "language": "python",
   "name": "python3"
  },
  "language_info": {
   "codemirror_mode": {
    "name": "ipython",
    "version": 3
   },
   "file_extension": ".py",
   "mimetype": "text/x-python",
   "name": "python",
   "nbconvert_exporter": "python",
   "pygments_lexer": "ipython3",
   "version": "3.8.5"
  }
 },
 "nbformat": 4,
 "nbformat_minor": 4
}
