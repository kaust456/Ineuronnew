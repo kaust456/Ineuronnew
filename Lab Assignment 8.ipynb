{
 "cells": [
  {
   "cell_type": "code",
   "execution_count": null,
   "metadata": {},
   "outputs": [],
   "source": [
    "Lab Assignment 8"
   ]
  },
  {
   "cell_type": "code",
   "execution_count": null,
   "metadata": {},
   "outputs": [],
   "source": [
    "#1.\tWrite a Python Program to Add Two Matrices?"
   ]
  },
  {
   "cell_type": "code",
   "execution_count": 22,
   "metadata": {},
   "outputs": [
    {
     "name": "stdout",
     "output_type": "stream",
     "text": [
      "[4, 4, 4]\n",
      "[4, 4, 4]\n",
      "[4, 4, 4]\n"
     ]
    }
   ],
   "source": [
    "mat = [[1,2,3],\n",
    "       [1,2,3],\n",
    "       [1,2,3]]\n",
    "\n",
    "mat2 = [[3,2,1],\n",
    "        [3,2,1],\n",
    "        [3,2,1]]\n",
    "\n",
    "add = [[0,0,0],\n",
    "       [0,0,0],\n",
    "       [0,0,0]]\n",
    "\n",
    "for i in range(len(mat)):\n",
    "    for j in range(len((mat[0]))):\n",
    "        add[i][j] = mat[i][j] + mat2[i][j]\n",
    "        \n",
    "        \n",
    "        \n",
    "for k in add:\n",
    "    print(k)\n",
    "                   "
   ]
  },
  {
   "cell_type": "code",
   "execution_count": null,
   "metadata": {},
   "outputs": [],
   "source": []
  },
  {
   "cell_type": "code",
   "execution_count": null,
   "metadata": {},
   "outputs": [],
   "source": [
    "#2.\tWrite a Python Program to Multiply Two Matrices?"
   ]
  },
  {
   "cell_type": "code",
   "execution_count": 23,
   "metadata": {},
   "outputs": [
    {
     "name": "stdout",
     "output_type": "stream",
     "text": [
      "[3, 4, 3]\n",
      "[3, 4, 3]\n",
      "[3, 4, 3]\n"
     ]
    }
   ],
   "source": [
    "mat = [[1,2,3],\n",
    "       [1,2,3],\n",
    "       [1,2,3]]\n",
    "\n",
    "mat2 = [[3,2,1],\n",
    "        [3,2,1],\n",
    "        [3,2,1]]\n",
    "\n",
    "add = [[0,0,0],\n",
    "       [0,0,0],\n",
    "       [0,0,0]]\n",
    "\n",
    "for i in range(len(mat)):\n",
    "    for j in range(len((mat[0]))):\n",
    "        add[i][j] = mat[i][j] * mat2[i][j]\n",
    "        \n",
    "        \n",
    "        \n",
    "for k in add:\n",
    "    print(k)\n",
    "                   "
   ]
  },
  {
   "cell_type": "code",
   "execution_count": null,
   "metadata": {},
   "outputs": [],
   "source": [
    "#3.\tWrite a Python Program to Transpose a Matrix?"
   ]
  },
  {
   "cell_type": "code",
   "execution_count": 27,
   "metadata": {},
   "outputs": [
    {
     "name": "stdout",
     "output_type": "stream",
     "text": [
      "[1, 2, 3]\n",
      "[1, 2, 3]\n",
      "[1, 2, 3]\n",
      "Transpose of a matrix is:\n",
      "[1, 1, 1]\n",
      "[2, 2, 2]\n",
      "[3, 3, 3]\n"
     ]
    }
   ],
   "source": [
    "trans = [[0,0,0],\n",
    "         [0,0,0],\n",
    "         [0,0,0]]\n",
    "\n",
    "\n",
    "for i in range(len(mat)):\n",
    "    for j in range(len(mat[0])):\n",
    "        trans[i][j] = mat[j][i]\n",
    "\n",
    "        \n",
    "for k in mat:\n",
    "    print(k)\n",
    "   \n",
    "print(\"Transpose of a matrix is:\")\n",
    "\n",
    "for r in trans:\n",
    "    print(r)"
   ]
  },
  {
   "cell_type": "code",
   "execution_count": null,
   "metadata": {},
   "outputs": [],
   "source": [
    "#4.\tWrite a Python Program to Sort Words in Alphabetic Order?"
   ]
  },
  {
   "cell_type": "code",
   "execution_count": 51,
   "metadata": {},
   "outputs": [
    {
     "name": "stdout",
     "output_type": "stream",
     "text": [
      "Enter a string : helllo world thios is a python class\n",
      "a\n",
      "class\n",
      "helllo\n",
      "is\n",
      "python\n",
      "thios\n",
      "world\n"
     ]
    }
   ],
   "source": [
    "s = str(input(\"Enter a string : \"))\n",
    "\n",
    "words = s.split()\n",
    "\n",
    "words.sort() \n",
    "\n",
    "for i in words:\n",
    "    print(i)\n",
    "\n"
   ]
  },
  {
   "cell_type": "code",
   "execution_count": null,
   "metadata": {},
   "outputs": [],
   "source": [
    "#5.\tWrite a Python Program to Remove Punctuation From a String?"
   ]
  },
  {
   "cell_type": "code",
   "execution_count": 54,
   "metadata": {},
   "outputs": [
    {
     "name": "stdout",
     "output_type": "stream",
     "text": [
      "Enter a string : Hello World,, Welcome All!\n",
      "Hello World Welcome All\n"
     ]
    }
   ],
   "source": [
    "import string\n",
    "g = str(input(\"Enter a string : \"))\n",
    "\n",
    "g = g.translate(str.maketrans(\"\",\"\",string.punctuation))\n",
    "print(g)"
   ]
  },
  {
   "cell_type": "code",
   "execution_count": null,
   "metadata": {},
   "outputs": [],
   "source": []
  }
 ],
 "metadata": {
  "kernelspec": {
   "display_name": "Python 3",
   "language": "python",
   "name": "python3"
  },
  "language_info": {
   "codemirror_mode": {
    "name": "ipython",
    "version": 3
   },
   "file_extension": ".py",
   "mimetype": "text/x-python",
   "name": "python",
   "nbconvert_exporter": "python",
   "pygments_lexer": "ipython3",
   "version": "3.8.5"
  }
 },
 "nbformat": 4,
 "nbformat_minor": 4
}
