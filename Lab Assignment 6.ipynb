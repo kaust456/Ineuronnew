{
 "cells": [
  {
   "cell_type": "markdown",
   "metadata": {},
   "source": [
    "Lab Assignment 6"
   ]
  },
  {
   "cell_type": "code",
   "execution_count": null,
   "metadata": {},
   "outputs": [],
   "source": [
    "#1.\tWrite a Python Program to Display Fibonacci Sequence Using Recursion?"
   ]
  },
  {
   "cell_type": "code",
   "execution_count": 43,
   "metadata": {},
   "outputs": [
    {
     "name": "stdout",
     "output_type": "stream",
     "text": [
      "Enter a Number : 5\n",
      "0 1 1 2 3 "
     ]
    }
   ],
   "source": [
    "a = int(input(\"Enter a Number : \"))\n",
    "count = 0\n",
    "n1 = 0\n",
    "n2 = 1\n",
    "\n",
    "while count < a :\n",
    "    \n",
    "    print(n1, end = \" \")\n",
    "    n3 = n1 + n2\n",
    "    n1 = n2\n",
    "    n2 = n3\n",
    "    count = count + 1\n",
    "    \n"
   ]
  },
  {
   "cell_type": "code",
   "execution_count": null,
   "metadata": {},
   "outputs": [],
   "source": []
  },
  {
   "cell_type": "code",
   "execution_count": null,
   "metadata": {},
   "outputs": [],
   "source": [
    "#2.\tWrite a Python Program to Find Factorial of Number Using Recursion?"
   ]
  },
  {
   "cell_type": "code",
   "execution_count": 44,
   "metadata": {},
   "outputs": [
    {
     "name": "stdout",
     "output_type": "stream",
     "text": [
      "Enter Number : 4\n",
      "Factorial of  4  is :  24\n"
     ]
    }
   ],
   "source": [
    "n = int(input(\"Enter Number : \"))\n",
    "n1 = n\n",
    "f = 1\n",
    "while n1 != 1:\n",
    "    f = f * n1\n",
    "    n1 = n1-1\n",
    "    \n",
    "    \n",
    "print(\"Factorial of \", n ,\" is : \", f)"
   ]
  },
  {
   "cell_type": "code",
   "execution_count": 65,
   "metadata": {},
   "outputs": [
    {
     "name": "stdout",
     "output_type": "stream",
     "text": [
      "Requirement already satisfied: simple-colors in c:\\users\\aparna\\anaconda\\lib\\site-packages (0.1.5)Note: you may need to restart the kernel to use updated packages.\n",
      "\n"
     ]
    }
   ],
   "source": [
    "pip install simple-colors\n"
   ]
  },
  {
   "cell_type": "code",
   "execution_count": null,
   "metadata": {},
   "outputs": [],
   "source": [
    "#3.\tWrite a Python Program to calculate your Body Mass Index?"
   ]
  },
  {
   "cell_type": "code",
   "execution_count": 1,
   "metadata": {},
   "outputs": [],
   "source": [
    "from simple_colors import *"
   ]
  },
  {
   "cell_type": "code",
   "execution_count": 45,
   "metadata": {},
   "outputs": [
    {
     "name": "stdout",
     "output_type": "stream",
     "text": [
      "Enter Weight : 65\n",
      "Enter height in meters : 171\n",
      "Body Mass Index is :  \u001b[1;32m22.2290619335864\u001b[0m\n",
      "\u001b[1;32mHealthy Weight\u001b[0m\n"
     ]
    }
   ],
   "source": [
    "w = int(input(\"Enter Weight : \"))\n",
    "h = int(input(\"Enter height in meters : \"))\n",
    "\n",
    "\n",
    "bmi = (w/(h*h))\n",
    "\n",
    "fbmi = bmi*10000\n",
    "\n",
    "\n",
    "if (fbmi < 18.5):\n",
    "    print(\"Body Mass Index is : \" , red(fbmi,'bold'))\n",
    "    print(red(\"Underweight!\",'bold'))\n",
    "if fbmi > 18.5 and fbmi < 24.9:\n",
    "    print(\"Body Mass Index is : \" , green(fbmi,'bold'))\n",
    "    print(green(\"Healthy Weight\",'bold'))\n",
    "if fbmi > 25.0 and fbmi < 29.9:\n",
    "    print(\"Body Mass Index is : \" , red(fbmi,'bold'))\n",
    "    print(red(\"Overweight!\",'bold'))\n",
    "if fbmi > 30.0:\n",
    "    print(\"Body Mass Index is : \" , red(fbmi,'bold'))\n",
    "    print(red(\"OBESITY\",'bold'))\n"
   ]
  },
  {
   "cell_type": "code",
   "execution_count": null,
   "metadata": {},
   "outputs": [],
   "source": [
    "#4.\tWrite a Python Program to calculate the natural logarithm of any number?"
   ]
  },
  {
   "cell_type": "code",
   "execution_count": 46,
   "metadata": {},
   "outputs": [
    {
     "name": "stdout",
     "output_type": "stream",
     "text": [
      "Enter Number : 14\n",
      "Natuural Logarithm of  14  is :  2.6390573296152584\n"
     ]
    }
   ],
   "source": [
    "import math\n",
    "n = int(input(\"Enter Number : \"))\n",
    "print(\"Natuural Logarithm of \", n , \" is : \", math.log(n))"
   ]
  },
  {
   "cell_type": "code",
   "execution_count": 47,
   "metadata": {},
   "outputs": [
    {
     "name": "stdout",
     "output_type": "stream",
     "text": [
      "Enter a Number : 5\n",
      "225\n"
     ]
    }
   ],
   "source": [
    "#5.\tWrite a Python Program for cube sum of first n natural numbers?\n",
    "\n",
    "no = int(input(\"Enter a Number : \"))\n",
    "sum = 0\n",
    "\n",
    "while (no != 0):\n",
    "    cube = no*no*no\n",
    "    sum = sum + cube\n",
    "    no = no-1\n",
    "\n",
    "    \n",
    "print(sum)"
   ]
  },
  {
   "cell_type": "code",
   "execution_count": null,
   "metadata": {},
   "outputs": [],
   "source": []
  }
 ],
 "metadata": {
  "kernelspec": {
   "display_name": "Python 3",
   "language": "python",
   "name": "python3"
  },
  "language_info": {
   "codemirror_mode": {
    "name": "ipython",
    "version": 3
   },
   "file_extension": ".py",
   "mimetype": "text/x-python",
   "name": "python",
   "nbconvert_exporter": "python",
   "pygments_lexer": "ipython3",
   "version": "3.8.5"
  }
 },
 "nbformat": 4,
 "nbformat_minor": 4
}
