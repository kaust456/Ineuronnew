{
 "cells": [
  {
   "cell_type": "markdown",
   "metadata": {},
   "source": [
    "aSSIGNMENT 2"
   ]
  },
  {
   "cell_type": "code",
   "execution_count": 5,
   "metadata": {},
   "outputs": [
    {
     "name": "stdout",
     "output_type": "stream",
     "text": [
      "Kilometers : 4\n",
      "4 Kilometers =  2.448  miles\n"
     ]
    }
   ],
   "source": [
    "#1.\tWrite a Python program to convert kilometers to miles?\n",
    "\n",
    "a = int(input(\"Kilometers : \"))\n",
    "miles = 0.612*a\n",
    "print(a,\"Kilometers = \",miles,\" miles\")"
   ]
  },
  {
   "cell_type": "code",
   "execution_count": 7,
   "metadata": {},
   "outputs": [
    {
     "name": "stdout",
     "output_type": "stream",
     "text": [
      "Enter Temperature in degree celsius  : 22\n",
      "22.0 degree celcius Temperature in Fahrenheit =  71.6  F\n"
     ]
    }
   ],
   "source": [
    "#2.\tWrite a Python program to convert Celsius to Fahrenheit?\n",
    "\n",
    "celsius = float(input(\"Enter Temperature in degree celsius  : \"))\n",
    "Fahrenheit = (celsius*(9/5)+32)\n",
    "print(celsius,\"degree celcius Temperature in Fahrenheit = \",Fahrenheit,\" F\")"
   ]
  },
  {
   "cell_type": "code",
   "execution_count": 14,
   "metadata": {},
   "outputs": [
    {
     "name": "stderr",
     "output_type": "stream",
     "text": [
      "ERROR: Could not find a version that satisfies the requirement calendar (from versions: none)\n",
      "ERROR: No matching distribution found for calendar\n"
     ]
    }
   ],
   "source": [
    "#3.\tWrite a Python program to display calendar?\n",
    "!pip install calendar\n",
    "import calendar\n",
    "\n",
    "\n"
   ]
  },
  {
   "cell_type": "code",
   "execution_count": 17,
   "metadata": {},
   "outputs": [
    {
     "name": "stdout",
     "output_type": "stream",
     "text": [
      "    October 2023\n",
      "Mo Tu We Th Fr Sa Su\n",
      "                   1\n",
      " 2  3  4  5  6  7  8\n",
      " 9 10 11 12 13 14 15\n",
      "16 17 18 19 20 21 22\n",
      "23 24 25 26 27 28 29\n",
      "30 31\n",
      "\n"
     ]
    }
   ],
   "source": [
    "import calendar\n",
    "\n",
    "yy = 2023\n",
    "mm = 10\n",
    "\n",
    "print(calendar.month(yy, mm))"
   ]
  },
  {
   "cell_type": "code",
   "execution_count": 20,
   "metadata": {},
   "outputs": [
    {
     "name": "stdout",
     "output_type": "stream",
     "text": [
      "3.7142857142857135\n"
     ]
    }
   ],
   "source": [
    "#4.\tWrite a Python program to solve quadratic equation \n",
    "\n",
    "a= 10\n",
    "b=4\n",
    "c=8\n",
    "d=7\n",
    "e=9\n",
    "\n",
    "eq = (a+b-(c*e)/d)\n",
    "print(eq)\n"
   ]
  },
  {
   "cell_type": "code",
   "execution_count": 26,
   "metadata": {},
   "outputs": [
    {
     "name": "stdout",
     "output_type": "stream",
     "text": [
      "Before Swapping : a =  aparna  b =  kaustubh\n",
      "After Swapping : a  =  kaustubh  b =  aparna\n"
     ]
    }
   ],
   "source": [
    "#5.\tWrite a Python program to swap two variables without temp variable?\n",
    "\n",
    "a = \"aparna\"\n",
    "b = \"kaustubh\"\n",
    "print(\"Before Swapping : a = \",a, \" b = \",b)\n",
    "a,b = b,a\n",
    "print (\"After Swapping : a  = \",a,\" b = \",b)    \n",
    "        "
   ]
  },
  {
   "cell_type": "code",
   "execution_count": null,
   "metadata": {},
   "outputs": [],
   "source": []
  },
  {
   "cell_type": "code",
   "execution_count": null,
   "metadata": {},
   "outputs": [],
   "source": []
  },
  {
   "cell_type": "code",
   "execution_count": null,
   "metadata": {},
   "outputs": [],
   "source": []
  },
  {
   "cell_type": "code",
   "execution_count": null,
   "metadata": {},
   "outputs": [],
   "source": []
  }
 ],
 "metadata": {
  "kernelspec": {
   "display_name": "Python 3",
   "language": "python",
   "name": "python3"
  },
  "language_info": {
   "codemirror_mode": {
    "name": "ipython",
    "version": 3
   },
   "file_extension": ".py",
   "mimetype": "text/x-python",
   "name": "python",
   "nbconvert_exporter": "python",
   "pygments_lexer": "ipython3",
   "version": "3.8.5"
  }
 },
 "nbformat": 4,
 "nbformat_minor": 4
}
