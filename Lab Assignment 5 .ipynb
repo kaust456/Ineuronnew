{
 "cells": [
  {
   "cell_type": "markdown",
   "metadata": {},
   "source": [
    "Lab Assignment 5"
   ]
  },
  {
   "cell_type": "code",
   "execution_count": null,
   "metadata": {},
   "outputs": [],
   "source": [
    "1. Write a python program to find LCM?"
   ]
  },
  {
   "cell_type": "code",
   "execution_count": 152,
   "metadata": {},
   "outputs": [
    {
     "name": "stdout",
     "output_type": "stream",
     "text": [
      "Enter a : 12\n",
      "Enter b : 13\n",
      "LCM of  12  and  13  is  156\n"
     ]
    }
   ],
   "source": [
    "a = int(input(\"Enter a : \"))\n",
    "b = int(input(\"Enter b : \"))\n",
    "\n",
    "\n",
    "if a > b:\n",
    "    greater = a\n",
    "else:\n",
    "    greater = b\n",
    "    \n",
    "    while(True):\n",
    "        if (greater % a == 0) and (greater % b ==0):\n",
    "            lcm = greater\n",
    "            break\n",
    "        greater = greater + 1\n",
    "        \n",
    "\n",
    "print(\"LCM of \",a,\" and \",b,\" is \",lcm)"
   ]
  },
  {
   "cell_type": "markdown",
   "metadata": {},
   "source": [
    "2. Write a python program to find HCF?"
   ]
  },
  {
   "cell_type": "code",
   "execution_count": 166,
   "metadata": {},
   "outputs": [
    {
     "name": "stdout",
     "output_type": "stream",
     "text": [
      "Enter a : 3\n",
      "Enter b : 9\n",
      "HCF of  3  and  9  is  9\n"
     ]
    }
   ],
   "source": [
    "a = int(input(\"Enter a : \"))\n",
    "b = int(input(\"Enter b : \"))\n",
    "\n",
    "if a < b:\n",
    "    smaller = a\n",
    "else:\n",
    "    smaller = b\n",
    "    \n",
    "while(True):\n",
    "    if(smaller % a == 0 ) and (smaller % b == 0):\n",
    "        hcf = smaller\n",
    "        break\n",
    "    smaller = smaller + 1  \n",
    "    \n",
    "print(\"HCF of \",a,\" and \",b,\" is \",hcf)"
   ]
  },
  {
   "cell_type": "code",
   "execution_count": null,
   "metadata": {},
   "outputs": [],
   "source": [
    "3. Write a python program to convert Decimal to Binary, Octal and Hexadecimal?"
   ]
  },
  {
   "cell_type": "code",
   "execution_count": 151,
   "metadata": {},
   "outputs": [
    {
     "name": "stdout",
     "output_type": "stream",
     "text": [
      "\tMenu\n",
      " 1. Convert Decimal to Binary. \n",
      " 2. Convert Decimal to Octal. \n",
      " 3. Convert Decimal to Hexadecimal. \n",
      " 4. Exit.\n",
      " Enter Your option : 1\n",
      "Enter Decimal number : 4\n",
      "Binary Representation of  4  is  100\n",
      "\tMenu\n",
      " 1. Convert Decimal to Binary. \n",
      " 2. Convert Decimal to Octal. \n",
      " 3. Convert Decimal to Hexadecimal. \n",
      " 4. Exit.\n",
      " Enter Your option : 2\n",
      "Enter Decimal number : 5\n",
      "Octal Representation of  5  is  0o5\n",
      "\tMenu\n",
      " 1. Convert Decimal to Binary. \n",
      " 2. Convert Decimal to Octal. \n",
      " 3. Convert Decimal to Hexadecimal. \n",
      " 4. Exit.\n",
      " Enter Your option : 3\n",
      "Enter Decimal number : 5\n",
      "Hexadecimal Representation of  5  is  0x5\n",
      "\tMenu\n",
      " 1. Convert Decimal to Binary. \n",
      " 2. Convert Decimal to Octal. \n",
      " 3. Convert Decimal to Hexadecimal. \n",
      " 4. Exit.\n",
      " Enter Your option : 4\n"
     ]
    }
   ],
   "source": [
    "while(a != 4):\n",
    "    a = int(input(\"\\tMenu\\n 1. Convert Decimal to Binary. \\n 2. Convert Decimal to Octal. \\n 3. Convert Decimal to Hexadecimal. \\n 4. Exit.\\n Enter Your option : \"))\n",
    "    if a == 1:\n",
    "        b = int(input(\"Enter Decimal number : \"))\n",
    "        print(\"Binary Representation of \",b, \" is \",bin(b).replace(\"0b\",\"\"))\n",
    "    elif a == 2:\n",
    "        b = int(input(\"Enter Decimal number : \"))\n",
    "        print(\"Octal Representation of \",b,\" is \",oct(b))\n",
    "    elif a == 3:\n",
    "        b = int(input(\"Enter Decimal number : \"))\n",
    "        print(\"Hexadecimal Representation of \",b,\" is \",hex(b))\n",
    "    \n",
    "    "
   ]
  },
  {
   "cell_type": "markdown",
   "metadata": {},
   "source": [
    "4. Write a python program to find ASCII value of a character?"
   ]
  },
  {
   "cell_type": "code",
   "execution_count": 15,
   "metadata": {},
   "outputs": [
    {
     "name": "stdout",
     "output_type": "stream",
     "text": [
      "Enter the character: A\n",
      "The ASCII value of  A  is  65\n"
     ]
    }
   ],
   "source": [
    "a = input(\"Enter the character: \")\n",
    "\n",
    "print(\"The ASCII value of \", a , \" is \", ord(a))"
   ]
  },
  {
   "cell_type": "code",
   "execution_count": null,
   "metadata": {},
   "outputs": [],
   "source": [
    "5. Write a python program to make a simple calculator with 4 basic mathematical operations?"
   ]
  },
  {
   "cell_type": "code",
   "execution_count": 43,
   "metadata": {},
   "outputs": [
    {
     "name": "stdout",
     "output_type": "stream",
     "text": [
      "\tMenu\n",
      " 1. Addition. \n",
      " 2. Subtraction. \n",
      " 3. Multiplication. \n",
      "4. Division.\n",
      "5. Exit\n",
      " Enter Your option : 1\n",
      "Enter a : 2\n",
      "Enter b : 3\n",
      "Addition of  2  and  3  is  5\n",
      "\tMenu\n",
      " 1. Addition. \n",
      " 2. Subtraction. \n",
      " 3. Multiplication. \n",
      "4. Division.\n",
      "5. Exit\n",
      " Enter Your option : 2\n",
      "Enter a : 3\n",
      "Enter b : 2\n",
      "Subtraction of  3  and  2  is  1\n",
      "\tMenu\n",
      " 1. Addition. \n",
      " 2. Subtraction. \n",
      " 3. Multiplication. \n",
      "4. Division.\n",
      "5. Exit\n",
      " Enter Your option : 3\n",
      "Enter a : 3\n",
      "Enter b : 4\n",
      "Multiplication of  3  and  4  is  12\n",
      "\tMenu\n",
      " 1. Addition. \n",
      " 2. Subtraction. \n",
      " 3. Multiplication. \n",
      "4. Division.\n",
      "5. Exit\n",
      " Enter Your option : 4\n",
      "Enter a : 4\n",
      "Enter b : 2\n",
      "Division of  4  and  2  is  2.0\n",
      "\tMenu\n",
      " 1. Addition. \n",
      " 2. Subtraction. \n",
      " 3. Multiplication. \n",
      "4. Division.\n",
      "5. Exit\n",
      " Enter Your option : 5\n"
     ]
    }
   ],
   "source": [
    "while(n != 5):\n",
    "    \n",
    "    n = int(input(\"\\tMenu\\n 1. Addition. \\n 2. Subtraction. \\n 3. Multiplication. \\n4. Division.\\n5. Exit\\n Enter Your option : \"))\n",
    "\n",
    "    if n == 1:\n",
    "        a = int(input(\"Enter a : \"))\n",
    "        b = int(input(\"Enter b : \"))\n",
    "        print(\"Addition of \",a ,\" and \",b, \" is \", a + b)   \n",
    "    \n",
    "    elif n == 2:\n",
    "        a = int(input(\"Enter a : \"))\n",
    "        b = int(input(\"Enter b : \"))\n",
    "        print(\"Subtraction of \",a ,\" and \",b ,\" is \", a - b)   \n",
    "    \n",
    "    elif n == 3:\n",
    "        a = int(input(\"Enter a : \"))\n",
    "        b = int(input(\"Enter b : \"))\n",
    "        print(\"Multiplication of \",a,\" and \",b ,\" is \", a * b)   \n",
    "    \n",
    "    elif n == 4:\n",
    "        a = int(input(\"Enter a : \"))\n",
    "        b = int(input(\"Enter b : \"))\n",
    "        print(\"Division of \",a ,\" and \",b, \" is \", a / b)   \n",
    "    \n"
   ]
  }
 ],
 "metadata": {
  "kernelspec": {
   "display_name": "Python 3",
   "language": "python",
   "name": "python3"
  },
  "language_info": {
   "codemirror_mode": {
    "name": "ipython",
    "version": 3
   },
   "file_extension": ".py",
   "mimetype": "text/x-python",
   "name": "python",
   "nbconvert_exporter": "python",
   "pygments_lexer": "ipython3",
   "version": "3.8.5"
  }
 },
 "nbformat": 4,
 "nbformat_minor": 4
}
