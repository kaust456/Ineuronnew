{
 "cells": [
  {
   "cell_type": "markdown",
   "metadata": {},
   "source": [
    "Lab Assignment 4"
   ]
  },
  {
   "cell_type": "code",
   "execution_count": 1,
   "metadata": {},
   "outputs": [
    {
     "name": "stdout",
     "output_type": "stream",
     "text": [
      "Enter Number : 4\n",
      "24\n"
     ]
    }
   ],
   "source": [
    "#1.\tWrite a Python Program to Find the Factorial of a Number?\n",
    "num = int(input(\"Enter Number : \"))\n",
    "fact = 1\n",
    "for i in range(1,num+1):\n",
    "    fact = fact*i\n",
    "\n",
    "print(fact)"
   ]
  },
  {
   "cell_type": "code",
   "execution_count": 5,
   "metadata": {},
   "outputs": [
    {
     "name": "stdout",
     "output_type": "stream",
     "text": [
      "Enter Number : 15\n",
      "15  X  1  =  15\n",
      "15  X  2  =  30\n",
      "15  X  3  =  45\n",
      "15  X  4  =  60\n",
      "15  X  5  =  75\n",
      "15  X  6  =  90\n",
      "15  X  7  =  105\n",
      "15  X  8  =  120\n",
      "15  X  9  =  135\n",
      "15  X  10  =  150\n"
     ]
    }
   ],
   "source": [
    "#2.\tWrite a Python Program to Display the multiplication Table?\n",
    "\n",
    "a = int(input(\"Enter Number : \"))\n",
    "\n",
    "for i in range(1,11):\n",
    "    print(a ,\" X \", i,\" = \" ,i*a)\n",
    "    "
   ]
  },
  {
   "cell_type": "code",
   "execution_count": 62,
   "metadata": {},
   "outputs": [
    {
     "name": "stdout",
     "output_type": "stream",
     "text": [
      "Enter No. : 3\n",
      "Fibonacci Series : \n",
      "0  +  1  =  1\n",
      "1  +  2  =  3\n",
      "2  +  3  =  5\n"
     ]
    }
   ],
   "source": [
    "#3.\tWrite a Python Program to Print the Fibonacci sequuence\n",
    "\n",
    "a= int(input(\"Enter No. : \"))\n",
    "print(\"Fibonacci Series : \")\n",
    "\n",
    "for i in range(1, a+1):\n",
    "    b = i + i-1\n",
    "    print(i-1 ,\" + \" ,i, \" = \", b)\n"
   ]
  },
  {
   "cell_type": "code",
   "execution_count": 7,
   "metadata": {},
   "outputs": [
    {
     "name": "stdout",
     "output_type": "stream",
     "text": [
      "Enter No. : 153\n",
      "153\n",
      "It' a armstrong no.\n"
     ]
    }
   ],
   "source": [
    "#4.\tWrite a Python Program to Check Armstrong Number?\n",
    "\n",
    "a=int(input(\"Enter No. : \"))\n",
    "sum =0\n",
    "g = len(str(a))\n",
    "\n",
    "for i in str(a):\n",
    "    b = int(i)**g\n",
    "    sum = sum + b\n",
    "print(sum)\n",
    "if sum == a:\n",
    "    print(\"It' a armstrong no.\")\n",
    "else:\n",
    "    print(\"It's not an armstrong no.\")"
   ]
  },
  {
   "cell_type": "code",
   "execution_count": 5,
   "metadata": {},
   "outputs": [
    {
     "name": "stdout",
     "output_type": "stream",
     "text": [
      "lower bound : 56\n",
      "upper bound : 765\n"
     ]
    }
   ],
   "source": [
    "#5.\tWrite a Python Program to Find Armstrong Number in an Interval?\n",
    "\n",
    "l = int(input(\"lower bound : \"))\n",
    "u = int(input(\"upper bound : \"))\n",
    "\n",
    "\n",
    "for i in range(l,u+1):\n",
    "    add =0\n",
    "    r= len(str(i))\n",
    "    for j in str(i):\n",
    "        s = int(j)**r\n",
    "        add = add+s\n",
    "    \n",
    "    if add == i:\n",
    "        print(add)\n",
    "    else:\n",
    "        break"
   ]
  },
  {
   "cell_type": "code",
   "execution_count": 8,
   "metadata": {},
   "outputs": [
    {
     "name": "stdout",
     "output_type": "stream",
     "text": [
      "enter natural no.: 5\n",
      "Sum =  15\n"
     ]
    }
   ],
   "source": [
    "#6.\tWrite a Python Program to Find the Sum of Natural Numbers?\n",
    "\n",
    "a = int(input(\"enter natural no.: \"))\n",
    "Sum = 0\n",
    "for i in range(1,a+1):\n",
    "    Sum = Sum + i\n",
    "    \n",
    "print(\"Sum = \", Sum)"
   ]
  },
  {
   "cell_type": "code",
   "execution_count": null,
   "metadata": {},
   "outputs": [],
   "source": []
  },
  {
   "cell_type": "code",
   "execution_count": null,
   "metadata": {},
   "outputs": [],
   "source": []
  }
 ],
 "metadata": {
  "kernelspec": {
   "display_name": "Python 3",
   "language": "python",
   "name": "python3"
  },
  "language_info": {
   "codemirror_mode": {
    "name": "ipython",
    "version": 3
   },
   "file_extension": ".py",
   "mimetype": "text/x-python",
   "name": "python",
   "nbconvert_exporter": "python",
   "pygments_lexer": "ipython3",
   "version": "3.8.5"
  }
 },
 "nbformat": 4,
 "nbformat_minor": 4
}
