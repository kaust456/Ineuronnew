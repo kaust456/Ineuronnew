{
 "cells": [
  {
   "cell_type": "markdown",
   "metadata": {},
   "source": [
    "1.In what modes should the PdfFileReader() and PdfFileWriter() File objects will be opened?\n"
   ]
  },
  {
   "cell_type": "markdown",
   "metadata": {},
   "source": [
    "PdfFileReader() binary mode by passing 'rb' as the second argument to open(). Likewise, the File object passed to PyPDF2. PdfFileWriter() needs to be opened in write-binary mode with 'wb'.\n"
   ]
  },
  {
   "cell_type": "code",
   "execution_count": null,
   "metadata": {},
   "outputs": [],
   "source": []
  },
  {
   "cell_type": "code",
   "execution_count": 1,
   "metadata": {},
   "outputs": [
    {
     "name": "stdout",
     "output_type": "stream",
     "text": [
      "Requirement already satisfied: PyPDF2 in c:\\users\\admin\\appdata\\roaming\\python\\python38\\site-packages (1.26.0)\n",
      "Note: you may need to restart the kernel to use updated packages.\n"
     ]
    }
   ],
   "source": [
    "pip install PyPDF2"
   ]
  },
  {
   "cell_type": "code",
   "execution_count": 2,
   "metadata": {},
   "outputs": [],
   "source": [
    "import PyPDF2 "
   ]
  },
  {
   "cell_type": "markdown",
   "metadata": {},
   "source": [
    "2.\tFrom a PdfFileReader object, how do you get a Page object for page 5?"
   ]
  },
  {
   "cell_type": "code",
   "execution_count": 3,
   "metadata": {},
   "outputs": [],
   "source": [
    "Pdf_df = open(r\"D:\\ineuron assignments\\data fsds -20220724T095048Z-001\\data fsds\\automate2e_SampleCh7.pdf\",'rb')"
   ]
  },
  {
   "cell_type": "code",
   "execution_count": 8,
   "metadata": {},
   "outputs": [],
   "source": [
    "pdfReader = PyPDF2.PdfFileReader(Pdf_df)"
   ]
  },
  {
   "cell_type": "code",
   "execution_count": 15,
   "metadata": {},
   "outputs": [
    {
     "data": {
      "text/plain": [
       "\"Pattern Matching with Regular Expressions\\n   165\\nCreating Regex Objects \\nAll the regex functions in Python are in the \\nre module. Enter the following \\ninto the interactive shell to import this module:\\n>>> import reNOTE\\n Most of the examples in this chapter will require the \\nre module, so remember to import \\nit at the beginning of any script you write or any time you restart Mu. Otherwise, \\nyou™ll get a \\nNameError: name 're' is not defined error message.\\nPassing a string value representing your regular expression to \\nre.compile() returns a \\nRegex pattern object (or simply, a \\nRegex object).\\nTo create a \\nRegex object that matches the phone number pattern, enter \\nthe following into the interactive shell. (Remember that \\n\\\\d means ﬁa digit \\ncharacterﬂ and \\n\\\\d\\\\d\\\\d-\\\\d\\\\d\\\\d-\\\\d\\\\d\\\\d\\\\d is the regular expression for a phone \\nnumber pattern.)\\n>>> phoneNumRegex = re.compile(r'\\\\d\\\\d\\\\d-\\\\d\\\\d\\\\d-\\\\d\\\\d\\\\d\\\\d')Now the \\nphoneNumRegex variable contains a \\nRegex object. \\nMatching Regex Objects \\nA Regex object™s \\nsearch() method searches the string it is passed for any \\nmatches to the regex. The \\nsearch() method will return \\nNone if the regex pat\\n-tern is not found in the string. If the pattern \\nis found, the \\nsearch() method \\nreturns a \\nMatch object, which have a \\ngroup() method that will return the \\nactual matched text from the searched string. (I™ll explain groups shortly.) \\nFor example, enter the following into the interactive shell:\\n>>> phoneNumRegex = re.compile(r'\\\\d\\\\d\\\\d-\\\\d\\\\d\\\\d-\\\\d\\\\d\\\\d\\\\d')>>> mo = phoneNumRegex.search('My number is 415-555-4242.')>>> print('Phone number found: ' + mo.group())Phone number found: 415-555-4242The \\nmo variable name is just a generic name to use for \\nMatch objects. \\nThis example might seem complicated at ˜rst, but it is much shorter than \\nthe earlier \\nisPhoneNumber.py\\n program and does the same thing.\\nHere, we pass our desired pattern to \\nre.compile() and store the result\\n-ing \\nRegex object in \\nphoneNumRegex. Then we call \\nsearch() on \\nphoneNumRegex and \\npass \\nsearch() the string we want to match for during the search. The result \\nof the search gets stored in the variable \\nmo. In this example, we know that \\nour pattern will be found in the string, so we know that a \\nMatch object will \\nbe returned. Knowing that \\nmo contains a \\nMatch object and not the null value \\nNone, we can call \\ngroup() on \\nmo to return the match. Writing \\nmo.group() inside \\nour \\nprint() function call displays the whole match, \\n415-555-4242.\""
      ]
     },
     "execution_count": 15,
     "metadata": {},
     "output_type": "execute_result"
    }
   ],
   "source": [
    "Pdf_df = open(r\"D:\\ineuron assignments\\data fsds -20220724T095048Z-001\\data fsds\\automate2e_SampleCh7.pdf\",'rb')\n",
    "\n",
    "\n",
    "pdfReader = PyPDF2.PdfFileReader(Pdf_df)\n",
    "pageobj = pdfReader.getPage(4)\n",
    "pageobj.extractText()\n"
   ]
  },
  {
   "cell_type": "markdown",
   "metadata": {},
   "source": [
    "3.\tWhat PdfFileReader variable stores the number of pages in the PDF document?"
   ]
  },
  {
   "cell_type": "code",
   "execution_count": 12,
   "metadata": {},
   "outputs": [
    {
     "data": {
      "text/plain": [
       "26"
      ]
     },
     "execution_count": 12,
     "metadata": {},
     "output_type": "execute_result"
    }
   ],
   "source": [
    "pdfReader.numPages"
   ]
  },
  {
   "cell_type": "markdown",
   "metadata": {},
   "source": [
    "4.\tIf a PdfFileReader object’s PDF is encrypted with the password swordfish, what must you do before you can obtain Page objects from it?"
   ]
  },
  {
   "cell_type": "markdown",
   "metadata": {},
   "source": [
    "we can use decrypt function before\n",
    "decrypt('swordfish')"
   ]
  },
  {
   "cell_type": "markdown",
   "metadata": {},
   "source": [
    "5. What methods do you use to rotate a page"
   ]
  },
  {
   "cell_type": "markdown",
   "metadata": {},
   "source": [
    "pageObj.rotateClockwise(180)\n",
    "\n",
    "\n",
    "The rotateClockwise() and rotateCounterClockwise() methods. The degrees to rotate is passed as an integer argument"
   ]
  },
  {
   "cell_type": "markdown",
   "metadata": {},
   "source": [
    "5. What is the difference between a Run object and a Paragraph object?"
   ]
  },
  {
   "cell_type": "markdown",
   "metadata": {},
   "source": [
    "Paragraph Object : A document contains multiple paragraphs. A paragraph begins on a new line and contains multiple runs. The Document object contains a list of Paragraph objects for the paragraphs in the document. (A new paragraph begins whenever the user presses ENTER or RETURN while typing in a Word document.)\n",
    "Run Objects : Runs are contiguous groups of characters within a paragraph with the same style"
   ]
  },
  {
   "cell_type": "markdown",
   "metadata": {},
   "source": [
    "6.How do you obtain a list of Paragraph objects for a Document object that’s stored in a variable named doc?"
   ]
  },
  {
   "cell_type": "code",
   "execution_count": 22,
   "metadata": {},
   "outputs": [
    {
     "name": "stdout",
     "output_type": "stream",
     "text": [
      "Collecting python-docx\n",
      "  Downloading python-docx-0.8.11.tar.gz (5.6 MB)\n",
      "Requirement already satisfied: lxml>=2.3.2 in c:\\users\\admin\\anaconda6\\lib\\site-packages (from python-docx) (4.6.1)\n",
      "Building wheels for collected packages: python-docx\n",
      "  Building wheel for python-docx (setup.py): started\n",
      "  Building wheel for python-docx (setup.py): finished with status 'done'\n",
      "  Created wheel for python-docx: filename=python_docx-0.8.11-py3-none-any.whl size=184605 sha256=db71755cd2fb3405524da82c962c5adf6ee17bd37a42a25c7c559a4388065ba2\n",
      "  Stored in directory: c:\\users\\admin\\appdata\\local\\pip\\cache\\wheels\\32\\b8\\b2\\c4c2b95765e615fe139b0b17b5ea7c0e1b6519b0a9ec8fb34d\n",
      "Successfully built python-docx\n",
      "Installing collected packages: python-docx\n",
      "Successfully installed python-docx-0.8.11\n"
     ]
    }
   ],
   "source": [
    "!pip install python-docx\n"
   ]
  },
  {
   "cell_type": "code",
   "execution_count": 25,
   "metadata": {},
   "outputs": [
    {
     "data": {
      "text/plain": [
       "[<docx.text.paragraph.Paragraph at 0xa8542b0>,\n",
       " <docx.text.paragraph.Paragraph at 0xa8543d0>,\n",
       " <docx.text.paragraph.Paragraph at 0xa854310>,\n",
       " <docx.text.paragraph.Paragraph at 0xa854580>,\n",
       " <docx.text.paragraph.Paragraph at 0xa854400>,\n",
       " <docx.text.paragraph.Paragraph at 0xa854370>,\n",
       " <docx.text.paragraph.Paragraph at 0xa854460>,\n",
       " <docx.text.paragraph.Paragraph at 0xa8544c0>,\n",
       " <docx.text.paragraph.Paragraph at 0xa854670>,\n",
       " <docx.text.paragraph.Paragraph at 0xa854550>,\n",
       " <docx.text.paragraph.Paragraph at 0xa854760>,\n",
       " <docx.text.paragraph.Paragraph at 0xa854610>,\n",
       " <docx.text.paragraph.Paragraph at 0xa8547f0>,\n",
       " <docx.text.paragraph.Paragraph at 0xa8546d0>,\n",
       " <docx.text.paragraph.Paragraph at 0xa8548b0>,\n",
       " <docx.text.paragraph.Paragraph at 0xa854790>,\n",
       " <docx.text.paragraph.Paragraph at 0xa854970>,\n",
       " <docx.text.paragraph.Paragraph at 0xa854850>]"
      ]
     },
     "execution_count": 25,
     "metadata": {},
     "output_type": "execute_result"
    }
   ],
   "source": [
    "import docx\n",
    "doc = docx.Document('D:\\ineuron assignments\\PdfFileReader.docx')\n",
    "doc.paragraphs\n",
    "#By using doc.paragraphs"
   ]
  },
  {
   "cell_type": "markdown",
   "metadata": {},
   "source": [
    "7.What type of object has bold, underline, italic, strike, and outline variables"
   ]
  },
  {
   "cell_type": "markdown",
   "metadata": {},
   "source": [
    " Ans. A Run object has bold, underline,italic,strike and outline variables"
   ]
  },
  {
   "cell_type": "markdown",
   "metadata": {},
   "source": [
    "8. What is the difference between False, True, and None for the bold variable?"
   ]
  },
  {
   "cell_type": "markdown",
   "metadata": {},
   "source": [
    "Runs can be further styled using text attributes. Each attribute can be set to one of three values:\n",
    "True (the attribute is always enabled, no matter what other styles are applied to the run),\n",
    "False (the attribute is always disabled),\n",
    "None (defaults to whatever the run’s style is set to)\n",
    "\n",
    "True always makes the Run object bolded and False makes it always not bolded, no matter what the style’s bold setting is. None will make the Run object just use the style’s bold setting"
   ]
  },
  {
   "cell_type": "markdown",
   "metadata": {},
   "source": [
    "9.How do you create a Document object for a new Word document?"
   ]
  },
  {
   "cell_type": "markdown",
   "metadata": {},
   "source": [
    "By Calling the docx.Document() function."
   ]
  },
  {
   "cell_type": "markdown",
   "metadata": {},
   "source": [
    "Q. How do you add a paragraph with the text 'Hello, there!'' to a Document object stored in a variable named doc?"
   ]
  },
  {
   "cell_type": "code",
   "execution_count": 30,
   "metadata": {},
   "outputs": [],
   "source": [
    "import docx\n",
    "doc = docx.Document()\n",
    "\n",
    "doc.add_paragraph('Hello there!')\n",
    "doc.save('hellothere.docx')"
   ]
  },
  {
   "cell_type": "markdown",
   "metadata": {},
   "source": [
    "12.What integers represent the levels of headings available in Word documents?"
   ]
  },
  {
   "cell_type": "markdown",
   "metadata": {},
   "source": [
    "integer from 0 to 4\n",
    "The arguments to add_heading() are a string of the heading text and an integer from 0 to 4. The integer 0 makes the heading the Title style, which is used for the top of the document. Integers 1 to 4 are for various heading levels, with 1 being the main heading and 4 the lowest subheading"
   ]
  },
  {
   "cell_type": "code",
   "execution_count": null,
   "metadata": {},
   "outputs": [],
   "source": []
  }
 ],
 "metadata": {
  "kernelspec": {
   "display_name": "Python 3",
   "language": "python",
   "name": "python3"
  },
  "language_info": {
   "codemirror_mode": {
    "name": "ipython",
    "version": 3
   },
   "file_extension": ".py",
   "mimetype": "text/x-python",
   "name": "python",
   "nbconvert_exporter": "python",
   "pygments_lexer": "ipython3",
   "version": "3.8.5"
  }
 },
 "nbformat": 4,
 "nbformat_minor": 4
}
